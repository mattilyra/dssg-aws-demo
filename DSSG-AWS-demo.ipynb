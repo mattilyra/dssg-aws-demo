{
 "cells": [
  {
   "cell_type": "markdown",
   "metadata": {},
   "source": [
    "# PyData Berlin\n",
    "## Matti Lyra @mattilyra\n",
    "## @pydataberlin"
   ]
  },
  {
   "cell_type": "markdown",
   "metadata": {},
   "source": [
    "----"
   ]
  },
  {
   "cell_type": "markdown",
   "metadata": {},
   "source": [
    "# Conference\n",
    "\n",
    "## June 30th to July 2nd (tutorials on Friday)\n",
    "\n",
    "## Hosted at HTW\n",
    "\n",
    "## CFP is open, please consider submitting a talk\n",
    "\n",
    "## http://pydata.org/berlin2017"
   ]
  },
  {
   "cell_type": "markdown",
   "metadata": {},
   "source": [
    "----"
   ]
  },
  {
   "cell_type": "markdown",
   "metadata": {},
   "source": [
    "# AWS\n",
    "\n",
    "- what is Amazon Web Services or AWS? (https://aws.amazon.com/solutions/) (https://aws.amazon.com/products/)\n",
    "   - EC2 (**this tutorial**)\n",
    "       - https://aws.amazon.com/ec2/instance-types/\n",
    "       - https://aws.amazon.com/ec2/pricing/on-demand/\n",
    "   - S3 (**this tutorial**)\n",
    "   - Elastic BeanStalk\n",
    "   - Lambda\n",
    "   - AWS Elasttic Map Reduce (EMR)\n",
    "   - ...\n",
    "- Login to AWS management WEB UI\n",
    "---\n",
    "- Managing an instance\n",
    "  - lifecycle of an instance (create, launch, run, stop)\n",
    "      - AWS regions\n",
    "  - security groups\n",
    "  - logging in\n",
    "----\n",
    "- awscli (https://aws.amazon.com/cli/)\n",
    "---\n",
    "- Installing software (jupyter notebook)\n",
    "- running the notebook and getting access from your local machine"
   ]
  },
  {
   "cell_type": "markdown",
   "metadata": {},
   "source": [
    "# Login to AWS\n",
    "\n",
    "## For the purposes of this tutorial you won't be using your own AWS account (if you have one) \n",
    "## instead you'll be using the PyData account via a IAM user role\n",
    "\n",
    "### https://pydataberlin.signin.aws.amazon.com/console \n",
    "\n",
    "### login credentials you get from me"
   ]
  },
  {
   "cell_type": "markdown",
   "metadata": {},
   "source": [
    "---"
   ]
  },
  {
   "cell_type": "markdown",
   "metadata": {},
   "source": [
    "# AWS Virtual Machines\n",
    "\n",
    "## just a computer (virtual) that you have `ssh` access to (using private keys)\n",
    "\n",
    "- Managing an instance\n",
    "  - lifecycle of an instance (create, launch, run, stop)\n",
    "      - AWS regions\n",
    "      - AMIs\n",
    "  - security groups\n",
    "  - logging in via ssh\n",
    "  \n",
    "\n",
    "https://aws.amazon.com/getting-started/tutorials/launch-a-virtual-machine/\n",
    "\n",
    "http://docs.aws.amazon.com/AWSEC2/latest/UserGuide/EC2_GetStarted.html?shortFooter=true\n",
    "\n",
    "## remember to change the `ssh key` permissions to `600`\n",
    "\n",
    "`chmod 600 ~/Downloads/keys.pem`"
   ]
  },
  {
   "cell_type": "markdown",
   "metadata": {},
   "source": [
    "---"
   ]
  },
  {
   "cell_type": "markdown",
   "metadata": {},
   "source": [
    "# Accessing S3"
   ]
  },
  {
   "cell_type": "markdown",
   "metadata": {},
   "source": [
    "`aws s3 ls`\n",
    "\n",
    "`aws s3 cp s3://pydataberlin-dssg-datadive/ ./`\n",
    "\n",
    "### custom applications, for instance `dask`\n",
    "\n",
    "`curl http://169.254.169.254/latest/meta-data/iam/security-credentials/DSSG-datadive`"
   ]
  },
  {
   "cell_type": "markdown",
   "metadata": {},
   "source": [
    "---"
   ]
  },
  {
   "cell_type": "markdown",
   "metadata": {},
   "source": [
    "# Running Stuff\n",
    "\n",
    "- Install python (miniconda)\n",
    "    - install required packages\n",
    "    - run a jupyter notebook\n",
    "    - moving data _to_ and _fro_\n",
    "    \n",
    "\n",
    "## install miniconda (https://conda.io/miniconda.html)\n",
    "\n",
    "`curl -O https://repo.continuum.io/miniconda/Miniconda3-latest-Linux-x86_64.sh`\n",
    "\n",
    "`chmod +x Miniconda3-latest-Linux-x86_64.sh`\n",
    "\n",
    "`./Miniconda3-latest-Linux-x86_64.sh`"
   ]
  },
  {
   "cell_type": "markdown",
   "metadata": {},
   "source": [
    "----"
   ]
  },
  {
   "cell_type": "markdown",
   "metadata": {},
   "source": [
    "# create a conda environment\n",
    "\n",
    "`conda create -n dssg python=3 jupyter notebook numpy scipy`\n",
    "\n",
    "`source activate dssg`\n",
    "\n",
    "## install which ever packages you might need\n",
    "\n",
    "`conda install matplotlib pandas seaborn scikit-learn`"
   ]
  },
  {
   "cell_type": "markdown",
   "metadata": {},
   "source": [
    "---"
   ]
  },
  {
   "cell_type": "markdown",
   "metadata": {},
   "source": [
    "# run a jupyter notebook and start working\n",
    "\n",
    "`jupyter notebook --no-browser`\n",
    "\n",
    "## SECURITY GROUPS --> SSH tunnels to the rescue!\n",
    "\n",
    "https://chamibuddhika.wordpress.com/2012/03/21/ssh-tunnelling-explained/\n",
    "\n",
    "\n",
    "\n",
    "### open a new shell (cmd+t) and run\n",
    "\n",
    "`ssh -i keys.pem -NL 8080:localhost:8080 ec2-user@IP_ADDRESS`"
   ]
  },
  {
   "cell_type": "markdown",
   "metadata": {},
   "source": [
    "---"
   ]
  },
  {
   "cell_type": "markdown",
   "metadata": {},
   "source": [
    "# but what if I want to go home in the evening?\n",
    "\n",
    "`screen -d -m -S notebook bash -c 'source activate py36;jupyter notebook --no-browser'`\n",
    "\n",
    "## to kill the notebook server\n",
    "\n",
    "`screen -S notebook -X quit`"
   ]
  }
 ],
 "metadata": {
  "kernelspec": {
   "display_name": "Python 3",
   "language": "python",
   "name": "python3"
  },
  "language_info": {
   "codemirror_mode": {
    "name": "ipython",
    "version": 3
   },
   "file_extension": ".py",
   "mimetype": "text/x-python",
   "name": "python",
   "nbconvert_exporter": "python",
   "pygments_lexer": "ipython3",
   "version": "3.6.0"
  }
 },
 "nbformat": 4,
 "nbformat_minor": 2
}
